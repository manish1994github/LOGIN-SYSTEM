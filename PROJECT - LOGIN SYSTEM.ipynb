{
 "cells": [
  {
   "cell_type": "markdown",
   "id": "373e0eb0",
   "metadata": {},
   "source": [
    "  ##    SHREE GANESHAY NAMAH"
   ]
  },
  {
   "cell_type": "code",
   "execution_count": 42,
   "id": "34f4f39d",
   "metadata": {},
   "outputs": [
    {
     "name": "stdout",
     "output_type": "stream",
     "text": [
      "new user(Y or N):y\n",
      "please sign up here.\n",
      "please enter your gmail id:  ammmmm\n",
      "\n",
      "password must be 8 character and must have one cap letter one small lett one digit one special charater\n",
      "please create your password:  Amma@123\n",
      "you are succesfully signed up. \n"
     ]
    }
   ],
   "source": [
    "dict_students={}\n",
    "file = open(\"DictFile.pkl\",\"wb\")\n",
    "pickle.dump(dict_students, file)\n",
    "import numpy as npp\n",
    "import pickle\n",
    "x=input('new user(Y or N):' )\n",
    "if x.upper()=='Y':\n",
    "    print('please sign up here.')\n",
    "    user=input('please enter your gmail id:  ')\n",
    "    print('\\npassword must be 8 character and must have one cap letter one small lett one digit one special charater')\n",
    "    p=input('please create your password:  ')\n",
    "    \n",
    "    if len(p)>8:\n",
    "        print('Maximum length of password must be 8')\n",
    "    if len(p)<8:\n",
    "        print('length of password must be 8 ')\n",
    "    \n",
    "    elif (ord(p[0]) in range(65,91,1) or ord(p[1]) in range(65,91,1) or ord(p[2]) in range(65,91,1) or ord(p[3]) in range(65,91,1) or ord(p[4]) in range(65,91,1) or ord(p[5]) in range(65,91,1) or ord(p[6]) in range(65,91,1) or ord(p[7]) in range(65,91,1)) and(ord(p[0]) in range(97,123,1) or ord(p[1]) in range(97,123,1) or ord(p[2]) in range(97,123,1) or ord(p[3]) in range(97,123,1) or ord(p[4]) in range(97,123,1) or ord(p[5]) in range(97,123,1) or ord(p[6]) in range(97,123,1) or ord(p[7]) in range(97,123,1)) and (len(p)==8) and ( p[0] in ('!@#$%^&') or  p[1] in ('!@#$%^&') or  p[2] in ('!@#$%^&') or  p[3] in ('!@#$%^&') or  p[4] in ('!@#$%^&') or  p[5] in ('!@#$%^&') or  p[6] in ('!@#$%^&') or  p[7] in ('!@#$%^&')):\n",
    "        dict_students={}\n",
    "        file = open(\"DictFile.pkl\", \"rb\")\n",
    "        file_contents = pickle.load(file)\n",
    "        v=file_contents\n",
    "        v.update({user:p})\n",
    "        dict_students=v\n",
    "        file = open(\"DictFile.pkl\",\"wb\")\n",
    "        pickle.dump(dict_students, file)\n",
    "        file.close()\n",
    "        print('you are succesfully signed up. ')\n",
    "    else:\n",
    "        print('Your password is not following strong password criteria')\n",
    "        \n",
    "if x.upper()=='N':\n",
    "    print('\\nplease sign in here.')\n",
    "    old=input('enter your user id: ')\n",
    "    pas=input('enter your password: ')\n",
    "    file = open(\"DictFile.pkl\", \"rb\")\n",
    "    s= pickle.load(file)\n",
    "    \n",
    "    if pas==s[old]:\n",
    "        print('you are succesfully logged in')                                                     \n",
    "        \n",
    "    elif  pas!=s[old]:\n",
    "        print('wrong password')\n",
    "        reset=input('reset password(y/n):  ')\n",
    "        if reset.upper()=='Y':\n",
    "            a1=npp.random.randint(1001,9999,1,dtype='int64')\n",
    "            print('\\n',a1,'is OTP for password change')\n",
    "            res=int(input('enter OTP: '))\n",
    "            if res==a1:\n",
    "                user=input('enter mail id: ')\n",
    "                print('\\npassword must be 8 character and must have one cap letter one small lett one digit one special charater')\n",
    "                \n",
    "                np=input('\\nenter new pasword: ')\n",
    "                if (ord(np[0]) in range(65,91,1) or ord(np[1]) in range(65,91,1) or ord(np[2]) in range(65,91,1) or ord(np[3]) in range(65,91,1) or ord(np[4]) in range(65,91,1) or ord(np[5]) in range(65,91,1) or ord(np[6]) in range(65,91,1) or ord(np[7]) in range(65,91,1)) and(ord(np[0]) in range(97,123,1) or ord(np[1]) in range(97,123,1) or ord(np[2]) in range(97,123,1) or ord(np[3]) in range(97,123,1) or ord(np[4]) in range(97,123,1) or ord(np[5]) in range(97,123,1) or ord(np[6]) in range(97,123,1) or ord(np[7]) in range(97,123,1)) and (len(np)==8) and ( np[0] in ('!@#$%^&') or  np[1] in ('!@#$%^&') or  np[2] in ('!@#$%^&') or  np[3] in ('!@#$%^&') or  np[4] in ('!@#$%^&') or  np[5] in ('!@#$%^&') or  np[6] in ('!@#$%^&') or  np[7] in ('!@#$%^&')):\n",
    "                    \n",
    "        \n",
    "                \n",
    "                    file = open(\"DictFile.pkl\", \"rb\")\n",
    "                    file_contents = pickle.load(file)\n",
    "                    v=file_contents\n",
    "                    v[user]=np\n",
    "                    dict_students=v\n",
    "                    file = open(\"DictFile.pkl\",\"wb\")\n",
    "                    pickle.dump(dict_students, file)\n",
    "                    file.close()\n",
    "                    cnf=input('confirm pasword:')\n",
    "                    if cnf==np:\n",
    "                        print('\\nyour password is succesfully changed')\n",
    "            elif res!=a1:\n",
    "                print('wrong OTP')\n",
    "    else:\n",
    "        print('user id and password do not match')"
   ]
  },
  {
   "cell_type": "code",
   "execution_count": 40,
   "id": "ac7d2c89",
   "metadata": {},
   "outputs": [
    {
     "data": {
      "text/plain": [
       "{'Manish': 'Amana@12',\n",
       " 'palak': 'Palak@c1',\n",
       " 'makshh': 'pAlak@12',\n",
       " 'prashansha': 'Prasha@1',\n",
       " 'kriti': 'Pankaj@1',\n",
       " 'sanskar': 'Manish@1',\n",
       " 'manishhh': 'Pankaj@8',\n",
       " 'abhisek': 'Abhi@123',\n",
       " 'manish3453@gmail.com': 'Sadf232@',\n",
       " 'lion': 'Pankaj@1',\n",
       " 'naqvi': '1n&ASFRE',\n",
       " 'shiv': 'Shiva@12'}"
      ]
     },
     "execution_count": 40,
     "metadata": {},
     "output_type": "execute_result"
    }
   ],
   "source": [
    "dict_students"
   ]
  },
  {
   "cell_type": "code",
   "execution_count": null,
   "id": "89cd697b",
   "metadata": {},
   "outputs": [],
   "source": []
  }
 ],
 "metadata": {
  "kernelspec": {
   "display_name": "Python 3 (ipykernel)",
   "language": "python",
   "name": "python3"
  },
  "language_info": {
   "codemirror_mode": {
    "name": "ipython",
    "version": 3
   },
   "file_extension": ".py",
   "mimetype": "text/x-python",
   "name": "python",
   "nbconvert_exporter": "python",
   "pygments_lexer": "ipython3",
   "version": "3.9.7"
  }
 },
 "nbformat": 4,
 "nbformat_minor": 5
}
